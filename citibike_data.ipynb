{
 "cells": [
  {
   "cell_type": "code",
   "execution_count": 1,
   "metadata": {},
   "outputs": [],
   "source": [
    "import pandas as pd"
   ]
  },
  {
   "cell_type": "code",
   "execution_count": 10,
   "metadata": {},
   "outputs": [],
   "source": [
    "# Define file strings descendingly from 202208 down to 202108, 13 months\n",
    "tripData=[\"JC-202208-citibike-tripdata\",\"JC-202207-citibike-tripdata\",\"JC-202206-citibike-tripdata\",\"JC-202205-citibike-tripdata\",\"JC-202204-citibike-tripdata\",\n",
    "    \"JC-202203-citibike-tripdata\",\"JC-202202-citibike-tripdata\",\"JC-202201-citibike-tripdata\",\"JC-202112-citibike-tripdata\",\"JC-202111-citibike-tripdata\",\n",
    "    \"JC-202110-citibike-tripdata\", \"JC-202109-citibike-tripdata\"]\n",
    "\n",
    "csvFiles = [\"data202208_transformed\", \"data202207_transformed\", \"data202206_transformed\", \"data202205_transformed\", \"data202204_transformed\", \n",
    "    \"data202203_transformed\", \"data202202_transformed\", \"data202201_transformed\", \"data202112_transformed\", \"data202111_transformed\", \n",
    "    \"data202110_transformed\",  \"data202109_transformed\"]"
   ]
  },
  {
   "cell_type": "code",
   "execution_count": 15,
   "metadata": {},
   "outputs": [],
   "source": [
    "# Loop thru file list to build transformed data, then write output to csv file\n",
    "\n",
    "for i in range(0,len(tripData)):\n",
    "    new_df= pd.read_csv(\"Resources/\"+tripData[i]+\".csv\")\n",
    "\n",
    "    data_cols = [\"ride_id\", \"started_at\", \"ended_at\"]\n",
    "    data_transformed = new_df[data_cols].copy()\n",
    "\n",
    "    # split date and time from started_date and ended_date\n",
    "    data_date = data_transformed['started_at'].str.split(' ', expand=True)\n",
    "    data_transformed['start_date']=data_date[0]\n",
    "    data_transformed['start_time']=data_date[1]\n",
    "    data_date = data_transformed['ended_at'].str.split(' ', expand=True)\n",
    "    data_transformed['end_date']=data_date[0]\n",
    "    data_transformed['end_time']=data_date[1]\n",
    "    data_transformed.drop(['started_at','ended_at'],axis=1,inplace=True) # drop columns before merging\n",
    "\n",
    "    data_transformed=pd.merge(data_transformed, new_df, on='ride_id', how='left')    \n",
    "    data_transformed.drop(['started_at','ended_at'],axis=1,inplace=True) # drop columns after merging\n",
    "\n",
    "    data_transformed.to_csv(\"Outputs/\" + csvFiles[i]+ \".csv\", index = False)\n"
   ]
  }
 ],
 "metadata": {
  "kernelspec": {
   "display_name": "Python 3.7.13 ('bootcamp')",
   "language": "python",
   "name": "python3"
  },
  "language_info": {
   "codemirror_mode": {
    "name": "ipython",
    "version": 3
   },
   "file_extension": ".py",
   "mimetype": "text/x-python",
   "name": "python",
   "nbconvert_exporter": "python",
   "pygments_lexer": "ipython3",
   "version": "3.7.13"
  },
  "vscode": {
   "interpreter": {
    "hash": "048ab9dd6cc338f9ed387f57c1ac5591c4dc3f11e42bccfd8eeed32f389c85f1"
   }
  }
 },
 "nbformat": 4,
 "nbformat_minor": 2
}
